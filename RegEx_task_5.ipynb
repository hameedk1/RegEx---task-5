{
  "nbformat": 4,
  "nbformat_minor": 0,
  "metadata": {
    "colab": {
      "provenance": [],
      "include_colab_link": true
    },
    "kernelspec": {
      "name": "python3",
      "display_name": "Python 3"
    },
    "language_info": {
      "name": "python"
    }
  },
  "cells": [
    {
      "cell_type": "markdown",
      "metadata": {
        "id": "view-in-github",
        "colab_type": "text"
      },
      "source": [
        "<a href=\"https://colab.research.google.com/github/hameedk1/RegEx---task-5/blob/main/RegEx_task_5.ipynb\" target=\"_parent\"><img src=\"https://colab.research.google.com/assets/colab-badge.svg\" alt=\"Open In Colab\"/></a>"
      ]
    },
    {
      "cell_type": "markdown",
      "source": [
        "1. Write a Python program to check that a string contains only a certain set of characters (in this case a-z, A-Z and 0-9).\n",
        "\n"
      ],
      "metadata": {
        "id": "fpQX9wBhb6ox"
      }
    },
    {
      "cell_type": "code",
      "execution_count": 1,
      "metadata": {
        "id": "5HKhizIkbt59",
        "outputId": "564e432b-ca40-4370-c2ea-57a9c579809f",
        "colab": {
          "base_uri": "https://localhost:8080/"
        }
      },
      "outputs": [
        {
          "output_type": "stream",
          "name": "stdout",
          "text": [
            "\"Hello123\" contains only alphanumeric characters: True\n",
            "\"abc@123\" contains only alphanumeric characters: False\n"
          ]
        }
      ],
      "source": [
        "import re\n",
        "\n",
        "def check_string_characters(input_string):\n",
        "    \"\"\"Check if a string contains only a certain set of characters.\"\"\"\n",
        "    pattern = r'^[a-zA-Z0-9]+$'  # Pattern to match only alphanumeric characters\n",
        "    if re.match(pattern, input_string):\n",
        "        return True\n",
        "    else:\n",
        "        return False\n",
        "\n",
        "# Example usage:\n",
        "input_str1 = \"Hello123\"\n",
        "input_str2 = \"abc@123\"  # Contains non-alphanumeric characters\n",
        "\n",
        "print(f'\"{input_str1}\" contains only alphanumeric characters:', check_string_characters(input_str1))\n",
        "print(f'\"{input_str2}\" contains only alphanumeric characters:', check_string_characters(input_str2))"
      ]
    },
    {
      "cell_type": "markdown",
      "source": [
        "2. Write a Python program that matches a string that has an a followed by zero or more b's.\n",
        "\n"
      ],
      "metadata": {
        "id": "rtdxRzltcRtS"
      }
    },
    {
      "cell_type": "code",
      "source": [
        "import re\n",
        "\n",
        "def match_pattern(input_string):\n",
        "    \"\"\"Match a string that has an 'a' followed by zero or more 'b's.\"\"\"\n",
        "    pattern = r'^ab*$'  # Pattern to match 'a' followed by zero or more 'b's\n",
        "    if re.match(pattern, input_string):\n",
        "        return True\n",
        "    else:\n",
        "        return False\n",
        "\n",
        "# Example usage:\n",
        "input_str1 = \"ab\"\n",
        "input_str2 = \"abb\"\n",
        "input_str3 = \"ac\"  # Does not match the pattern\n",
        "\n",
        "print(f'\"{input_str1}\" matches the pattern:', match_pattern(input_str1))\n",
        "print(f'\"{input_str2}\" matches the pattern:', match_pattern(input_str2))\n",
        "print(f'\"{input_str3}\" matches the pattern:', match_pattern(input_str3))"
      ],
      "metadata": {
        "id": "ZjdCBYZAcZGl",
        "outputId": "2e4c5962-b166-4c5d-b87d-c2f3ef43822d",
        "colab": {
          "base_uri": "https://localhost:8080/"
        }
      },
      "execution_count": 2,
      "outputs": [
        {
          "output_type": "stream",
          "name": "stdout",
          "text": [
            "\"ab\" matches the pattern: True\n",
            "\"abb\" matches the pattern: True\n",
            "\"ac\" matches the pattern: False\n"
          ]
        }
      ]
    },
    {
      "cell_type": "markdown",
      "source": [
        "3. Replace only the first occurrence of 5 with five for the given string\n",
        "\n"
      ],
      "metadata": {
        "id": "kyvbz3eNcZri"
      }
    },
    {
      "cell_type": "code",
      "source": [
        "input_string = \"I have 5 apples, 5 oranges, and 10 bananas.\"\n",
        "modified_string = input_string.replace('5', 'five', 1)\n",
        "\n",
        "print(\"Original string:\", input_string)\n",
        "print(\"Modified string:\", modified_string)\n"
      ],
      "metadata": {
        "id": "pgZy45dxcqSg",
        "outputId": "68e79a4c-63ca-45a5-e3ea-9e360b74a8b4",
        "colab": {
          "base_uri": "https://localhost:8080/"
        }
      },
      "execution_count": 3,
      "outputs": [
        {
          "output_type": "stream",
          "name": "stdout",
          "text": [
            "Original string: I have 5 apples, 5 oranges, and 10 bananas.\n",
            "Modified string: I have five apples, 5 oranges, and 10 bananas.\n"
          ]
        }
      ]
    },
    {
      "cell_type": "markdown",
      "source": [
        "4. Write a Python program that matches a string that has an a followed by three 'b'.\n",
        "\n"
      ],
      "metadata": {
        "id": "h_b1-o6ncuzM"
      }
    },
    {
      "cell_type": "code",
      "source": [
        "import re\n",
        "\n",
        "def match_pattern(input_string):\n",
        "    \"\"\"Match a string that has an 'a' followed by three 'b's.\"\"\"\n",
        "    pattern = r'^ab{3}$'  # Pattern to match 'a' followed by three 'b's\n",
        "    if re.match(pattern, input_string):\n",
        "        return True\n",
        "    else:\n",
        "        return False\n",
        "\n",
        "# Example usage:\n",
        "input_str1 = \"abbb\"\n",
        "input_str2 = \"abbbb\"\n",
        "input_str3 = \"abb\"  # Does not match the pattern\n",
        "\n",
        "print(f'\"{input_str1}\" matches the pattern:', match_pattern(input_str1))\n",
        "print(f'\"{input_str2}\" matches the pattern:', match_pattern(input_str2))\n",
        "print(f'\"{input_str3}\" matches the pattern:', match_pattern(input_str3))"
      ],
      "metadata": {
        "id": "eWIRl3LccqwE",
        "outputId": "883381a3-df56-4b48-e204-f3a93ec0f60c",
        "colab": {
          "base_uri": "https://localhost:8080/"
        }
      },
      "execution_count": 4,
      "outputs": [
        {
          "output_type": "stream",
          "name": "stdout",
          "text": [
            "\"abbb\" matches the pattern: True\n",
            "\"abbbb\" matches the pattern: False\n",
            "\"abb\" matches the pattern: False\n"
          ]
        }
      ]
    },
    {
      "cell_type": "markdown",
      "source": [
        "5. Write a Python program that matches a string that has an 'a' followed by anything ending in 'b'.\n",
        "\n"
      ],
      "metadata": {
        "id": "K2vPe01bc2LN"
      }
    },
    {
      "cell_type": "code",
      "source": [
        "import re\n",
        "\n",
        "def match_pattern(input_string):\n",
        "    \"\"\"Match a string that has an 'a' followed by anything ending in 'b'.\"\"\"\n",
        "    pattern = r'^a.*b$'  # Pattern to match 'a' followed by anything and ending in 'b'\n",
        "    if re.match(pattern, input_string):\n",
        "        return True\n",
        "    else:\n",
        "        return False\n",
        "\n",
        "# Example usage:\n",
        "input_str1 = \"apple\"\n",
        "input_str2 = \"axb\"\n",
        "input_str3 = \"acb\"  # Does not match the pattern\n",
        "\n",
        "print(f'\"{input_str1}\" matches the pattern:', match_pattern(input_str1))\n",
        "print(f'\"{input_str2}\" matches the pattern:', match_pattern(input_str2))\n",
        "print(f'\"{input_str3}\" matches the pattern:', match_pattern(input_str3))\n"
      ],
      "metadata": {
        "id": "f8KfX59qc3UJ",
        "outputId": "2e8758fc-b7e1-48f8-b618-dff08c1bd8f0",
        "colab": {
          "base_uri": "https://localhost:8080/"
        }
      },
      "execution_count": 5,
      "outputs": [
        {
          "output_type": "stream",
          "name": "stdout",
          "text": [
            "\"apple\" matches the pattern: False\n",
            "\"axb\" matches the pattern: True\n",
            "\"acb\" matches the pattern: True\n"
          ]
        }
      ]
    },
    {
      "cell_type": "markdown",
      "source": [
        "6. Write a Python program to search for numbers (0-9) of length between 1 and 3 in a given string."
      ],
      "metadata": {
        "id": "NyL-DhqXdZi7"
      }
    },
    {
      "cell_type": "code",
      "source": [
        "import re\n",
        "\n",
        "def search_numbers(input_string):\n",
        "    \"\"\"Search for numbers (0-9) of length between 1 and 3 in a given string.\"\"\"\n",
        "    pattern = r'\\b\\d{1,3}\\b'  # Pattern to match numbers of length between 1 and 3\n",
        "    numbers_found = re.findall(pattern, input_string)\n",
        "    return numbers_found\n",
        "\n",
        "# Example usage:\n",
        "input_str = \"The numbers are 42, 1001, 12345, 7, and 999.\"\n",
        "numbers_list = search_numbers(input_str)\n",
        "print(\"Numbers found:\", numbers_list)\n"
      ],
      "metadata": {
        "id": "pWsu0HljdnKX",
        "colab": {
          "base_uri": "https://localhost:8080/"
        },
        "outputId": "3f1938de-d055-4223-bf74-cc1162a0694f"
      },
      "execution_count": 6,
      "outputs": [
        {
          "output_type": "stream",
          "name": "stdout",
          "text": [
            "Numbers found: ['42', '7', '999']\n"
          ]
        }
      ]
    },
    {
      "cell_type": "markdown",
      "source": [
        "7. Write a Python program to search for literal strings within a string.\\\n",
        "Sample text : 'The quick brown fox jumps over the lazy dog.' \\\n",
        "Searched words : 'fox', 'dog', 'horse'"
      ],
      "metadata": {
        "id": "aWaHWXFjdqy7"
      }
    },
    {
      "cell_type": "code",
      "source": [
        "def search_words(text, *words):\n",
        "    \"\"\"Search for literal words within a string.\"\"\"\n",
        "    found_words = []\n",
        "    for word in words:\n",
        "        if word in text:\n",
        "            found_words.append(word)\n",
        "    return found_words\n",
        "\n",
        "# Sample text\n",
        "sample_text = 'The quick brown fox jumps over the lazy dog.'\n",
        "\n",
        "# Words to search for\n",
        "searched_words = ['fox', 'dog', 'horse']\n",
        "\n",
        "# Search for words in the sample text\n",
        "found_words = search_words(sample_text, *searched_words)\n",
        "\n",
        "print(\"Words found:\", found_words)"
      ],
      "metadata": {
        "id": "bVAMeTMddnmf",
        "outputId": "4da5bd98-a83d-4e61-afa6-ca7f6d042f47",
        "colab": {
          "base_uri": "https://localhost:8080/"
        }
      },
      "execution_count": 7,
      "outputs": [
        {
          "output_type": "stream",
          "name": "stdout",
          "text": [
            "Words found: ['fox', 'dog']\n"
          ]
        }
      ]
    },
    {
      "cell_type": "markdown",
      "source": [
        "8. Write a Python program to search for a literal string in a string and also find the location within the original string where the pattern occurs.\n",
        "\n",
        "Sample text : 'The quick brown fox jumps over the lazy dog.' \\\n",
        "Searched words : 'fox'"
      ],
      "metadata": {
        "id": "2cgZLc6Yd0sE"
      }
    },
    {
      "cell_type": "code",
      "source": [
        "def search_string(text, pattern):\n",
        "    \"\"\"Search for a literal string in a string and find its location.\"\"\"\n",
        "    location = text.find(pattern)\n",
        "    return location\n",
        "\n",
        "# Sample text\n",
        "sample_text = 'The quick brown fox jumps over the lazy dog.'\n",
        "\n",
        "# Pattern to search for\n",
        "pattern_to_search = 'fox'\n",
        "\n",
        "# Search for the pattern in the sample text\n",
        "pattern_location = search_string(sample_text, pattern_to_search)\n",
        "\n",
        "if pattern_location != -1:\n",
        "    print(f\"The pattern '{pattern_to_search}' is found at index {pattern_location} in the text.\")\n",
        "else:\n",
        "    print(f\"The pattern '{pattern_to_search}' is not found in the text.\")\n"
      ],
      "metadata": {
        "id": "Tj1FCCx4d3zZ",
        "outputId": "bbaec768-78f4-40dc-e745-7575521a8a20",
        "colab": {
          "base_uri": "https://localhost:8080/"
        }
      },
      "execution_count": 9,
      "outputs": [
        {
          "output_type": "stream",
          "name": "stdout",
          "text": [
            "The pattern 'fox' is found at index 16 in the text.\n"
          ]
        }
      ]
    },
    {
      "cell_type": "markdown",
      "source": [
        "9.  Write a Python program to extract year, month and date from an URL"
      ],
      "metadata": {
        "id": "ixuwdsnvdtcP"
      }
    },
    {
      "cell_type": "code",
      "source": [
        "from urllib.parse import urlparse, parse_qs\n",
        "\n",
        "def extract_date_from_url(url):\n",
        "    \"\"\"Extract year, month, and date from a URL.\"\"\"\n",
        "    parsed_url = urlparse(url)\n",
        "    query_params = parse_qs(parsed_url.query)\n",
        "\n",
        "    if 'year' in query_params and 'month' in query_params and 'date' in query_params:\n",
        "        year = query_params['year'][0]\n",
        "        month = query_params['month'][0]\n",
        "        date = query_params['date'][0]\n",
        "        return year, month, date\n",
        "    else:\n",
        "        return None, None, None\n",
        "\n",
        "# Example URL containing date information\n",
        "sample_url = 'https://example.com/news/2024/05/23/article123'\n",
        "\n",
        "# Extract date from the URL\n",
        "year, month, date = extract_date_from_url(sample_url)\n",
        "\n",
        "if year and month and date:\n",
        "    print(f\"Year: {year}, Month: {month}, Date: {date}\")\n",
        "else:\n",
        "    print(\"Date information not found in the URL.\")"
      ],
      "metadata": {
        "id": "uWA2_OfJeFpw",
        "colab": {
          "base_uri": "https://localhost:8080/"
        },
        "outputId": "7c6468ce-bbf3-43d9-f5b4-aa1cf119c7c2"
      },
      "execution_count": 10,
      "outputs": [
        {
          "output_type": "stream",
          "name": "stdout",
          "text": [
            "Date information not found in the URL.\n"
          ]
        }
      ]
    },
    {
      "cell_type": "markdown",
      "source": [
        "10. Write a Python program to find URLs in a string.\n",
        "\n"
      ],
      "metadata": {
        "id": "Qdob8Ojkea-W"
      }
    },
    {
      "cell_type": "code",
      "source": [
        "import re\n",
        "\n",
        "def find_urls(input_string):\n",
        "    \"\"\"Find URLs in a string.\"\"\"\n",
        "    url_pattern = r'https?://(?:[-\\w.]|(?:%[\\da-fA-F]{2}))+'\n",
        "    urls_found = re.findall(url_pattern, input_string)\n",
        "    return urls_found\n",
        "\n",
        "# Example text containing URLs\n",
        "sample_text = \"Check out this website: https://www.example.com, and another one: http://www.python.org.\"\n",
        "\n",
        "# Find URLs in the sample text\n",
        "urls_list = find_urls(sample_text)\n",
        "\n",
        "print(\"URLs found:\")\n",
        "for url in urls_list:\n",
        "    print(url)\n"
      ],
      "metadata": {
        "id": "d9KUcdQEeIJu",
        "outputId": "04cb1807-71a8-4ea5-e77e-19ac83424f9a",
        "colab": {
          "base_uri": "https://localhost:8080/"
        }
      },
      "execution_count": 11,
      "outputs": [
        {
          "output_type": "stream",
          "name": "stdout",
          "text": [
            "URLs found:\n",
            "https://www.example.com\n",
            "http://www.python.org.\n"
          ]
        }
      ]
    },
    {
      "cell_type": "markdown",
      "source": [
        "11. Write a Python program to remove the parenthesis area in a string.\\\n",
        "\n",
        "Sample data : [\"example (.com)\", \"w3resource\", \"github (.com)\", \"stackoverflow (.com)\"] \\\n",
        "Expected Output: \\\n",
        "example  \\\n",
        "w3resource \\\n",
        "github  \\\n",
        "stackoverflow. \\\n",
        "\n"
      ],
      "metadata": {
        "id": "5mX_cCEFepSi"
      }
    },
    {
      "cell_type": "code",
      "source": [
        "import re\n",
        "\n",
        "def remove_parenthesis_area(input_string):\n",
        "    \"\"\"Remove the text enclosed within parentheses in a string.\"\"\"\n",
        "    pattern = r'\\([^)]*\\)'  # Pattern to match text within parentheses\n",
        "    modified_string = re.sub(pattern, '', input_string)\n",
        "    return modified_string.strip()\n",
        "\n",
        "# Example text with parentheses\n",
        "sample_text = \"Hello (world), how are you? (This is a test).\"\n",
        "\n",
        "# Remove text within parentheses from the sample text\n",
        "modified_text = remove_parenthesis_area(sample_text)\n",
        "\n",
        "print(\"Original text:\", sample_text)\n",
        "print(\"Modified text:\", modified_text)"
      ],
      "metadata": {
        "id": "CNYOSWfLee_M",
        "outputId": "f34edc91-b181-4649-e799-9e5db066bdfc",
        "colab": {
          "base_uri": "https://localhost:8080/"
        }
      },
      "execution_count": 12,
      "outputs": [
        {
          "output_type": "stream",
          "name": "stdout",
          "text": [
            "Original text: Hello (world), how are you? (This is a test).\n",
            "Modified text: Hello , how are you? .\n"
          ]
        }
      ]
    },
    {
      "cell_type": "markdown",
      "source": [
        "12. Write a Python program to concatenate the consecutive numbers in a given string. \\\n",
        "\n",
        "Original string:  \\\n",
        "Enter at 1 20 Kearny Street. The security desk can direct you to floor 1 6. Please have your identification ready.  \\\n",
        "\n",
        "After concatenating the consecutive numbers in the said string:  \\\n",
        "Enter at 120 Kearny Street. The security desk can direct you to floor 16. Please have your identification ready."
      ],
      "metadata": {
        "id": "sRhveFHXe7nz"
      }
    },
    {
      "cell_type": "code",
      "source": [
        "def concatenate_consecutive_numbers(input_string):\n",
        "    \"\"\"Concatenate consecutive numbers in a given string.\"\"\"\n",
        "    words = input_string.split()\n",
        "    result = []\n",
        "\n",
        "    i = 0\n",
        "    while i < len(words):\n",
        "        if words[i].isdigit() and i + 1 < len(words) and words[i + 1].isdigit():\n",
        "            concatenated_number = words[i] + words[i + 1]\n",
        "            result.append(concatenated_number)\n",
        "            i += 2  # Skip the next number since it's already concatenated\n",
        "        else:\n",
        "            result.append(words[i])\n",
        "            i += 1\n",
        "\n",
        "    return ' '.join(result)\n",
        "\n",
        "# Example text with consecutive numbers\n",
        "sample_text = \"The numbers 123 and 4567 are consecutive. Also, 78901 is consecutive.\"\n",
        "\n",
        "# Concatenate consecutive numbers in the sample text\n",
        "modified_text = concatenate_consecutive_numbers(sample_text)\n",
        "\n",
        "print(\"Original text:\", sample_text)\n",
        "print(\"Modified text:\", modified_text)"
      ],
      "metadata": {
        "id": "4dcBL0RTe_zP",
        "outputId": "d8ad0d49-4172-431a-a4b8-3f320fc8a3fe",
        "colab": {
          "base_uri": "https://localhost:8080/"
        }
      },
      "execution_count": 15,
      "outputs": [
        {
          "output_type": "stream",
          "name": "stdout",
          "text": [
            "Original text: The numbers 123 and 4567 are consecutive. Also, 78901 is consecutive.\n",
            "Modified text: The numbers 123 and 4567 are consecutive. Also, 78901 is consecutive.\n"
          ]
        }
      ]
    },
    {
      "cell_type": "markdown",
      "source": [],
      "metadata": {
        "id": "rENrD10afBB3"
      }
    }
  ]
}